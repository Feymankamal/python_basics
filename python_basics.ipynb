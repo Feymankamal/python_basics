{
  "nbformat": 4,
  "nbformat_minor": 0,
  "metadata": {
    "colab": {
      "provenance": [],
      "toc_visible": true,
      "authorship_tag": "ABX9TyMJB43/4F+XPrvUpvNVdFlm",
      "include_colab_link": true
    },
    "kernelspec": {
      "name": "python3",
      "display_name": "Python 3"
    },
    "language_info": {
      "name": "python"
    }
  },
  "cells": [
    {
      "cell_type": "markdown",
      "metadata": {
        "id": "view-in-github",
        "colab_type": "text"
      },
      "source": [
        "<a href=\"https://colab.research.google.com/github/Feymankamal/python_basics/blob/main/python_basics.ipynb\" target=\"_parent\"><img src=\"https://colab.research.google.com/assets/colab-badge.svg\" alt=\"Open In Colab\"/></a>"
      ]
    },
    {
      "cell_type": "markdown",
      "source": [
        "#Table of Content\n",
        "## programming with python\n",
        "* doing math with python\n",
        "* data structues\n",
        "* for and while loop\n",
        "* functions\n",
        "\n",
        "## plotting with matplot\n",
        "* plotting functions and loading data\n",
        "* multiple plots\n",
        "* Latex text\n",
        "\n",
        "## scipy packages\n",
        "* Linear and non linear curve fitting\n",
        "* special functions  \n"
      ],
      "metadata": {
        "id": "iy8MorNJr9Z7"
      }
    },
    {
      "cell_type": "code",
      "source": [
        "import numpy as np\n",
        "import matplotlib.pyplot as plt\n",
        "import pandas as pd\n",
        "from scipy.optimize import curve_fit"
      ],
      "metadata": {
        "id": "Q434Le88UnKU"
      },
      "execution_count": 1,
      "outputs": []
    },
    {
      "cell_type": "markdown",
      "source": [
        "# Doing math with python\n",
        "\n",
        "You can add, subtract, multiply, modulo division and division of  numbers in the python directly."
      ],
      "metadata": {
        "id": "trrf5BwTpy0j"
      }
    },
    {
      "cell_type": "code",
      "source": [
        "print('hello newton')\n",
        "print(0.003+0.002)\n",
        "print(1729**2)\n",
        "print(12//7) #floor division\n",
        "print(17%5) #remainder"
      ],
      "metadata": {
        "colab": {
          "base_uri": "https://localhost:8080/"
        },
        "id": "DnDjcDJeMo47",
        "outputId": "3d8aa6b5-7a7b-4bdd-d4df-86561a41407d"
      },
      "execution_count": null,
      "outputs": [
        {
          "output_type": "stream",
          "name": "stdout",
          "text": [
            "hello newton\n",
            "0.005\n",
            "2989441\n",
            "1\n",
            "2\n"
          ]
        }
      ]
    },
    {
      "cell_type": "markdown",
      "source": [
        "How to use **complex numbers**?\n",
        "\n",
        "in python we use  $j=\\sqrt{-1}$"
      ],
      "metadata": {
        "id": "lFmLq9cIfEjM"
      }
    },
    {
      "cell_type": "code",
      "source": [
        "(2+3j)*(4+3j)"
      ],
      "metadata": {
        "colab": {
          "base_uri": "https://localhost:8080/"
        },
        "id": "xjxJcTI6fivc",
        "outputId": "dfc125f6-52ea-42fb-fecb-1b4e53d86192"
      },
      "execution_count": null,
      "outputs": [
        {
          "output_type": "execute_result",
          "data": {
            "text/plain": [
              "(-1+18j)"
            ]
          },
          "metadata": {},
          "execution_count": 7
        }
      ]
    },
    {
      "cell_type": "code",
      "execution_count": null,
      "metadata": {
        "id": "_kRmiqZPr4Ji",
        "colab": {
          "base_uri": "https://localhost:8080/"
        },
        "outputId": "ee76412e-b7ca-4231-ab4f-559b4f844d5a"
      },
      "outputs": [
        {
          "output_type": "stream",
          "name": "stdout",
          "text": [
            "k=  1.3780508052465552e-23\n"
          ]
        }
      ],
      "source": [
        "k=8.3/6.023e23\n",
        "print('k= ',k)"
      ]
    },
    {
      "cell_type": "markdown",
      "source": [
        "how we can represent numbers in *scientific notation* ?\n",
        "\n",
        "if you want to represent $\\hbar= 6.626\\times10^{-34}Js$\n",
        "\n",
        "```python\n",
        "h=6.626e-34\n",
        "```\n",
        "suppose we want to calculate $log_{10}$,$log_e$, $sin$, $sin^{-1}, \\sqrt{a}$ of a number how to do it?\n",
        "\n",
        "there we can use libraries like *numpy*, *scipy*, *math*\n"
      ],
      "metadata": {
        "id": "v5j6W-bzIaqc"
      }
    },
    {
      "cell_type": "code",
      "source": [
        "import numpy as np\n",
        "a=np.sin(60)\n",
        "b=np.arcsin(0.5)\n",
        "c=np.log(21)\n",
        "d=np.log10(21)\n",
        "e=np.sqrt(21)\n",
        "print('sin(60)=',a)\n",
        "print('arcsin(0.5)=',b)\n",
        "print('log21=',c)\n",
        "print('log1021=',d)\n",
        "print('sqrt(21)=',e)"
      ],
      "metadata": {
        "colab": {
          "base_uri": "https://localhost:8080/"
        },
        "id": "TKPrP3CEPgSs",
        "outputId": "33fa43cc-5bb4-48e0-fc62-169bd8b61150"
      },
      "execution_count": null,
      "outputs": [
        {
          "output_type": "stream",
          "name": "stdout",
          "text": [
            "sin(60)= -0.3048106211022167\n",
            "arcsin(0.5)= 0.5235987755982989\n",
            "log21= 3.044522437723423\n",
            "log1021= 1.3222192947339193\n",
            "sqrt(21)= 4.58257569495584\n"
          ]
        }
      ]
    },
    {
      "cell_type": "markdown",
      "source": [
        "## format printing\n",
        "Python uses 15 decimal places to represent a number (floating point number) Suppose you want to print the outputs in a formated manner how will you do?\n"
      ],
      "metadata": {
        "id": "VuN6YjXmjlCU"
      }
    },
    {
      "cell_type": "code",
      "source": [
        "print(\"sin(60)= {0:0.3f} \".format(a))"
      ],
      "metadata": {
        "id": "KoiuVcM9jimq",
        "colab": {
          "base_uri": "https://localhost:8080/"
        },
        "outputId": "fb72fbbb-c90c-4594-cba8-2938c3738aa9"
      },
      "execution_count": null,
      "outputs": [
        {
          "output_type": "stream",
          "name": "stdout",
          "text": [
            "sin(60)= -0.305 \n"
          ]
        }
      ]
    },
    {
      "cell_type": "markdown",
      "source": [
        "If you want to print more than one values"
      ],
      "metadata": {
        "id": "MMCp1ehtSc2x"
      }
    },
    {
      "cell_type": "code",
      "source": [
        "print(\"arcsin(0.5)= {0:0.4f}, log21={1:0.3f}\".format(b,c))"
      ],
      "metadata": {
        "colab": {
          "base_uri": "https://localhost:8080/"
        },
        "id": "1MjvNdfTQ_4i",
        "outputId": "3b678464-8d65-4250-eb70-6e5f2621e2db"
      },
      "execution_count": null,
      "outputs": [
        {
          "output_type": "stream",
          "name": "stdout",
          "text": [
            "arcsin(0.5)= 0.5236, log21=3.045\n"
          ]
        }
      ]
    },
    {
      "cell_type": "markdown",
      "source": [
        "# Data structure\n",
        "Data structures are used to **store** and  organize *numerical*, *alphatical* and other types of information. python has the following data structures\n",
        "\n",
        "* Numpy array\n",
        "* List\n",
        "* tuples\n",
        "* dictionaries\n",
        "\n",
        "## Nump arrays\n",
        "Numpy arrays are used to store **numerical data** and used to represent *vectors, matrices, tensors*\n",
        "\n",
        "## how to creat a Numpy array *?*\n"
      ],
      "metadata": {
        "id": "3ZBBqJ1disDX"
      }
    },
    {
      "cell_type": "code",
      "source": [
        "a=np.array([1,4,3,5,7,9,11,17])\n",
        "print('a=',a)\n"
      ],
      "metadata": {
        "id": "BPxR9u7uYXxy",
        "colab": {
          "base_uri": "https://localhost:8080/"
        },
        "outputId": "1c58a263-9386-4f37-876f-fd579da320ff"
      },
      "execution_count": null,
      "outputs": [
        {
          "output_type": "stream",
          "name": "stdout",
          "text": [
            "a= [ 1  4  3  5  7  9 11 17]\n"
          ]
        }
      ]
    },
    {
      "cell_type": "markdown",
      "source": [
        "Suppose i want to create a **range** of numbers from 0 to 10 how to do that?"
      ],
      "metadata": {
        "id": "oXIampIpxUPm"
      }
    },
    {
      "cell_type": "code",
      "source": [
        "c=np.array(range(10))\n",
        "print(c)"
      ],
      "metadata": {
        "colab": {
          "base_uri": "https://localhost:8080/"
        },
        "id": "s_rxqXb3xgQM",
        "outputId": "0d479873-75f5-4c3b-d534-5ab4676ab342"
      },
      "execution_count": null,
      "outputs": [
        {
          "output_type": "stream",
          "name": "stdout",
          "text": [
            "[0 1 2 3 4 5 6 7 8 9]\n"
          ]
        }
      ]
    },
    {
      "cell_type": "markdown",
      "source": [
        "Suppose i want them in increment of 2"
      ],
      "metadata": {
        "id": "f_gRXFdRS2Hp"
      }
    },
    {
      "cell_type": "code",
      "source": [
        "d=np.array(range(0,10,2))\n",
        "print(d)"
      ],
      "metadata": {
        "colab": {
          "base_uri": "https://localhost:8080/"
        },
        "id": "tes9-fFpS6rs",
        "outputId": "3079438c-2cc5-4646-89a6-6b52c4bd4f63"
      },
      "execution_count": null,
      "outputs": [
        {
          "output_type": "stream",
          "name": "stdout",
          "text": [
            "[0 2 4 6 8]\n"
          ]
        }
      ]
    },
    {
      "cell_type": "markdown",
      "source": [
        "Where **range** is a in build python function it takes the following arguments\n",
        "\n",
        "**range(start,stop,steps)**\n",
        "\n",
        "numpy also has it's own range function called **arange** the arguments are same as range function"
      ],
      "metadata": {
        "id": "DJ5ebqZvxrBg"
      }
    },
    {
      "cell_type": "code",
      "source": [
        "d=np.arange(0,10,1)\n",
        "print(d)"
      ],
      "metadata": {
        "colab": {
          "base_uri": "https://localhost:8080/"
        },
        "id": "bTiIKfcf2kh9",
        "outputId": "6480b897-7e68-4929-adec-23bb80d67498"
      },
      "execution_count": null,
      "outputs": [
        {
          "output_type": "stream",
          "name": "stdout",
          "text": [
            "[0 1 2 3 4 5 6 7 8 9]\n"
          ]
        }
      ]
    },
    {
      "cell_type": "markdown",
      "source": [
        "If we want to create **100** equally spaced numbers between **0** to **10** we can use **linspace**"
      ],
      "metadata": {
        "id": "jm0123iQE2lu"
      }
    },
    {
      "cell_type": "code",
      "source": [
        "g=np.linspace(0,10,100)\n",
        "print(g)"
      ],
      "metadata": {
        "colab": {
          "base_uri": "https://localhost:8080/"
        },
        "collapsed": true,
        "id": "m2H6BBpxFpBD",
        "outputId": "f40d25e1-a59f-43e3-f45b-fd3a4c695e53"
      },
      "execution_count": null,
      "outputs": [
        {
          "output_type": "stream",
          "name": "stdout",
          "text": [
            "[ 0.          0.1010101   0.2020202   0.3030303   0.4040404   0.50505051\n",
            "  0.60606061  0.70707071  0.80808081  0.90909091  1.01010101  1.11111111\n",
            "  1.21212121  1.31313131  1.41414141  1.51515152  1.61616162  1.71717172\n",
            "  1.81818182  1.91919192  2.02020202  2.12121212  2.22222222  2.32323232\n",
            "  2.42424242  2.52525253  2.62626263  2.72727273  2.82828283  2.92929293\n",
            "  3.03030303  3.13131313  3.23232323  3.33333333  3.43434343  3.53535354\n",
            "  3.63636364  3.73737374  3.83838384  3.93939394  4.04040404  4.14141414\n",
            "  4.24242424  4.34343434  4.44444444  4.54545455  4.64646465  4.74747475\n",
            "  4.84848485  4.94949495  5.05050505  5.15151515  5.25252525  5.35353535\n",
            "  5.45454545  5.55555556  5.65656566  5.75757576  5.85858586  5.95959596\n",
            "  6.06060606  6.16161616  6.26262626  6.36363636  6.46464646  6.56565657\n",
            "  6.66666667  6.76767677  6.86868687  6.96969697  7.07070707  7.17171717\n",
            "  7.27272727  7.37373737  7.47474747  7.57575758  7.67676768  7.77777778\n",
            "  7.87878788  7.97979798  8.08080808  8.18181818  8.28282828  8.38383838\n",
            "  8.48484848  8.58585859  8.68686869  8.78787879  8.88888889  8.98989899\n",
            "  9.09090909  9.19191919  9.29292929  9.39393939  9.49494949  9.5959596\n",
            "  9.6969697   9.7979798   9.8989899  10.        ]\n"
          ]
        }
      ]
    },
    {
      "cell_type": "markdown",
      "source": [
        "## Slicing a array\n",
        "To access a particular element in an array we have to use the index of that element. Also remember python is *zero indexed*."
      ],
      "metadata": {
        "id": "dW6LQvwdnLWO"
      }
    },
    {
      "cell_type": "code",
      "source": [
        "a[0]"
      ],
      "metadata": {
        "colab": {
          "base_uri": "https://localhost:8080/"
        },
        "id": "5F7nCfsUnp4p",
        "outputId": "6e0857bf-3e16-4d2a-8002-7963c6a133d8"
      },
      "execution_count": null,
      "outputs": [
        {
          "output_type": "execute_result",
          "data": {
            "text/plain": [
              "1"
            ]
          },
          "metadata": {},
          "execution_count": 11
        }
      ]
    },
    {
      "cell_type": "code",
      "source": [
        "a[5]"
      ],
      "metadata": {
        "colab": {
          "base_uri": "https://localhost:8080/"
        },
        "id": "CRJ-vvLCn0zR",
        "outputId": "5a8289bf-0d76-45b3-ab2e-e979ca3eee7c"
      },
      "execution_count": null,
      "outputs": [
        {
          "output_type": "execute_result",
          "data": {
            "text/plain": [
              "9"
            ]
          },
          "metadata": {},
          "execution_count": 12
        }
      ]
    },
    {
      "cell_type": "markdown",
      "source": [
        "Suppose i want to access **2nd** element to **7th** element in a how will i do it ?"
      ],
      "metadata": {
        "id": "usuiOE-XoCzY"
      }
    },
    {
      "cell_type": "code",
      "source": [
        "a[2:7]"
      ],
      "metadata": {
        "colab": {
          "base_uri": "https://localhost:8080/"
        },
        "id": "c5mxADbToRHW",
        "outputId": "8798a81c-507d-4652-dae1-25bf76a28f0f"
      },
      "execution_count": null,
      "outputs": [
        {
          "output_type": "execute_result",
          "data": {
            "text/plain": [
              "array([ 3,  5,  7,  9, 11])"
            ]
          },
          "metadata": {},
          "execution_count": 13
        }
      ]
    },
    {
      "cell_type": "markdown",
      "source": [
        "Suppose I want to access **2nd, 4th, 6th** elements ?"
      ],
      "metadata": {
        "id": "GwQpzX4SosPo"
      }
    },
    {
      "cell_type": "code",
      "source": [
        "a[2:8:2]"
      ],
      "metadata": {
        "colab": {
          "base_uri": "https://localhost:8080/"
        },
        "id": "PxztS-Hio42F",
        "outputId": "171b2887-2bba-4637-d41a-b9ac6e8e17d9"
      },
      "execution_count": null,
      "outputs": [
        {
          "output_type": "execute_result",
          "data": {
            "text/plain": [
              "array([ 3,  7, 11])"
            ]
          },
          "metadata": {},
          "execution_count": 15
        }
      ]
    },
    {
      "cell_type": "code",
      "source": [
        "a[0::2]"
      ],
      "metadata": {
        "colab": {
          "base_uri": "https://localhost:8080/"
        },
        "id": "Xy64Ld02pJDk",
        "outputId": "e045c7a3-fec6-4c3a-8f28-46a4d724696e"
      },
      "execution_count": null,
      "outputs": [
        {
          "output_type": "execute_result",
          "data": {
            "text/plain": [
              "array([2, 7])"
            ]
          },
          "metadata": {},
          "execution_count": 27
        }
      ]
    },
    {
      "cell_type": "code",
      "source": [
        "a[::2]"
      ],
      "metadata": {
        "colab": {
          "base_uri": "https://localhost:8080/"
        },
        "id": "6MZFZBdFsus5",
        "outputId": "421eba72-b188-4438-ab96-c7eec6a7d984"
      },
      "execution_count": null,
      "outputs": [
        {
          "output_type": "execute_result",
          "data": {
            "text/plain": [
              "array([2, 7])"
            ]
          },
          "metadata": {},
          "execution_count": 28
        }
      ]
    },
    {
      "cell_type": "markdown",
      "source": [
        "If want to access the elements in reverse order ?"
      ],
      "metadata": {
        "id": "HZanhNu5pnVn"
      }
    },
    {
      "cell_type": "code",
      "source": [
        "a[::-1]"
      ],
      "metadata": {
        "colab": {
          "base_uri": "https://localhost:8080/"
        },
        "id": "0vHzQac3pQJi",
        "outputId": "d1faac2a-7fc3-46c8-a70c-5aae7b1ee354"
      },
      "execution_count": null,
      "outputs": [
        {
          "output_type": "execute_result",
          "data": {
            "text/plain": [
              "array([17, 11,  9,  7,  5,  3,  4,  1])"
            ]
          },
          "metadata": {},
          "execution_count": 22
        }
      ]
    },
    {
      "cell_type": "markdown",
      "source": [
        "## Algebra with arrays"
      ],
      "metadata": {
        "id": "9EnLrs6o2-fd"
      }
    },
    {
      "cell_type": "code",
      "source": [
        "a=np.array([2,3,7])\n",
        "b=np.array([9,4,8])\n",
        "print('a+b=',a+b)\n",
        "print('a-b=',a-b)\n",
        "print('a*b=',a*b)\n",
        "print('a/b=',a/b)"
      ],
      "metadata": {
        "colab": {
          "base_uri": "https://localhost:8080/"
        },
        "id": "cC7Lk6EZq-Tk",
        "outputId": "6bd06e1a-7912-4924-866d-48908bdae008"
      },
      "execution_count": null,
      "outputs": [
        {
          "output_type": "stream",
          "name": "stdout",
          "text": [
            "a+b= [11  7 15]\n",
            "a-b= [-7 -1 -1]\n",
            "a*b= [18 12 56]\n",
            "a/b= [0.22222222 0.75       0.875     ]\n"
          ]
        }
      ]
    },
    {
      "cell_type": "markdown",
      "source": [
        "let\n",
        "\n",
        "$\\vec{a}=2\\hat{i}+3\\hat{j}+7\\hat{k}$\n",
        "\n",
        "$\\vec{b}=9\\hat{i}+4\\hat{j}+8\\hat{k}$\n",
        "\n",
        "how to find the dot product $\\vec{a}.\\vec{b}$ ?"
      ],
      "metadata": {
        "id": "VSrcFkNmqCpO"
      }
    },
    {
      "cell_type": "code",
      "source": [
        "dotab=np.dot(a,b)\n",
        "print('dot product =',dotab)"
      ],
      "metadata": {
        "colab": {
          "base_uri": "https://localhost:8080/"
        },
        "id": "IyKJe0tkr6A2",
        "outputId": "f614ba83-1e18-4fd8-96b1-61bb61c97472"
      },
      "execution_count": null,
      "outputs": [
        {
          "output_type": "stream",
          "name": "stdout",
          "text": [
            "dot product = 86\n"
          ]
        }
      ]
    },
    {
      "cell_type": "markdown",
      "source": [
        "## 2d arrays\n",
        "In 2d arrays instead of a single element we use an array of elements you can think of 2d arrays as **matrices**  "
      ],
      "metadata": {
        "id": "TaFkjxbUsfxp"
      }
    },
    {
      "cell_type": "code",
      "source": [
        "b=np.array([[1,2,3],[4,5,6],[7,8,9]])\n",
        "print(a)\n",
        "a.shape"
      ],
      "metadata": {
        "colab": {
          "base_uri": "https://localhost:8080/"
        },
        "id": "wJOtF3mFt-WC",
        "outputId": "3215cf92-ec8c-48cb-f6e5-50ff90cbaae4"
      },
      "execution_count": null,
      "outputs": [
        {
          "output_type": "stream",
          "name": "stdout",
          "text": [
            "[[1 4 6]\n",
            " [5 9 3]\n",
            " [7 6 8]]\n"
          ]
        },
        {
          "output_type": "execute_result",
          "data": {
            "text/plain": [
              "(3, 3)"
            ]
          },
          "metadata": {},
          "execution_count": 17
        }
      ]
    },
    {
      "cell_type": "markdown",
      "source": [
        "If you want to access the **0th** element?"
      ],
      "metadata": {
        "id": "PuqI-RLPuGbE"
      }
    },
    {
      "cell_type": "code",
      "source": [
        "a[0]"
      ],
      "metadata": {
        "colab": {
          "base_uri": "https://localhost:8080/"
        },
        "id": "QQOsEOChuT8N",
        "outputId": "316ec1a9-49fc-408c-ef88-2981d318406e"
      },
      "execution_count": null,
      "outputs": [
        {
          "output_type": "execute_result",
          "data": {
            "text/plain": [
              "array([1, 2, 3])"
            ]
          },
          "metadata": {},
          "execution_count": 32
        }
      ]
    },
    {
      "cell_type": "code",
      "source": [
        "a[0][1]"
      ],
      "metadata": {
        "colab": {
          "base_uri": "https://localhost:8080/"
        },
        "id": "_5n4jM78ui_B",
        "outputId": "8900dadf-d41a-4a00-d536-10c5a3023d1f"
      },
      "execution_count": null,
      "outputs": [
        {
          "output_type": "execute_result",
          "data": {
            "text/plain": [
              "2"
            ]
          },
          "metadata": {},
          "execution_count": 35
        }
      ]
    },
    {
      "cell_type": "code",
      "source": [
        "a[0,1]"
      ],
      "metadata": {
        "colab": {
          "base_uri": "https://localhost:8080/"
        },
        "id": "5z73iw6svYrM",
        "outputId": "52415f1f-72c3-4790-a810-e7df056e3de9"
      },
      "execution_count": null,
      "outputs": [
        {
          "output_type": "execute_result",
          "data": {
            "text/plain": [
              "2"
            ]
          },
          "metadata": {},
          "execution_count": 38
        }
      ]
    },
    {
      "cell_type": "markdown",
      "source": [
        "Suppose I want to access **first** element in every row ?"
      ],
      "metadata": {
        "id": "O6EbLv7ku397"
      }
    },
    {
      "cell_type": "code",
      "source": [
        "a[:,0]"
      ],
      "metadata": {
        "colab": {
          "base_uri": "https://localhost:8080/"
        },
        "id": "GeFS0fMeus0z",
        "outputId": "4de4cc7f-cded-4d4b-edd3-5d2a95fc888c"
      },
      "execution_count": null,
      "outputs": [
        {
          "output_type": "execute_result",
          "data": {
            "text/plain": [
              "array([1, 4, 7])"
            ]
          },
          "metadata": {},
          "execution_count": 37
        }
      ]
    },
    {
      "cell_type": "markdown",
      "source": [
        "## Matrix operations with 2d arrays\n",
        "suppose you want to take cross product of\n",
        "\n",
        "a=$\n",
        "\\begin{bmatrix}\n",
        "1 & 4 & 6 \\\\\n",
        "5 & 9 & 3 \\\\\n",
        "7 & 6 & 8\n",
        "\\end{bmatrix}\n",
        "$,\n",
        "b=$\n",
        "\\begin{bmatrix}\n",
        "9 & 3 & 5 \\\\\n",
        "2 & 7 & 2 \\\\\n",
        "0 & 2 & 8\n",
        "\\end{bmatrix}\n",
        "$\n",
        "\n"
      ],
      "metadata": {
        "id": "ho-44fr1HV2g"
      }
    },
    {
      "cell_type": "code",
      "source": [
        "a=np.array([[1,4,6],[5,9,3],[7,6,8]])\n",
        "b=np.array([[9,3,5],[2,7,2],[0,2,8]])\n",
        "acrob=np.cross(a,b)\n",
        "print(acrob)"
      ],
      "metadata": {
        "colab": {
          "base_uri": "https://localhost:8080/"
        },
        "id": "Wi-dKlQOJzWV",
        "outputId": "d24d2104-a63f-431f-d759-31f712e3433e"
      },
      "execution_count": null,
      "outputs": [
        {
          "output_type": "stream",
          "name": "stdout",
          "text": [
            "[[  2  49 -33]\n",
            " [ -3  -4  17]\n",
            " [ 32 -56  14]]\n"
          ]
        }
      ]
    },
    {
      "cell_type": "markdown",
      "source": [
        "## Lists\n",
        "Lists are also like array but the only difference between numpy array and list is that **list can take different type of elements**."
      ],
      "metadata": {
        "id": "aYhiDLyo3dRi"
      }
    },
    {
      "cell_type": "code",
      "source": [
        "e=['fermion',17,29.345,4+5j]\n",
        "print(e[0],e[3])"
      ],
      "metadata": {
        "colab": {
          "base_uri": "https://localhost:8080/"
        },
        "id": "V4oTYCGy3zvD",
        "outputId": "27d1fa76-3aba-4bcd-d157-7b42ff1a4b2a"
      },
      "execution_count": null,
      "outputs": [
        {
          "output_type": "stream",
          "name": "stdout",
          "text": [
            "fermion (4+5j)\n"
          ]
        }
      ]
    },
    {
      "cell_type": "markdown",
      "source": [
        "Suppose you want to **add** any element to the list ?"
      ],
      "metadata": {
        "id": "pxdwt3fZMCjz"
      }
    },
    {
      "cell_type": "code",
      "source": [
        "e.append('new element')\n",
        "print(e)"
      ],
      "metadata": {
        "colab": {
          "base_uri": "https://localhost:8080/"
        },
        "id": "cCCaSpyTMLas",
        "outputId": "30d1d272-aa71-4759-c439-d4499d4be724"
      },
      "execution_count": null,
      "outputs": [
        {
          "output_type": "stream",
          "name": "stdout",
          "text": [
            "['fermion', 17, 29.345, (4+5j), 'new element']\n"
          ]
        }
      ]
    },
    {
      "cell_type": "markdown",
      "source": [
        "## Tuples\n",
        "Tuples are lists that are *immutable* meaning once created indivual elements of a tuple cannot be changed\n"
      ],
      "metadata": {
        "id": "0Fi41Wbw4tKm"
      }
    },
    {
      "cell_type": "code",
      "source": [
        "f=(2,4,'tuple')\n",
        "f[1]=2"
      ],
      "metadata": {
        "colab": {
          "base_uri": "https://localhost:8080/",
          "height": 165
        },
        "collapsed": true,
        "id": "A6y3AxHB58u5",
        "outputId": "b8adf748-aa08-456a-b5e0-417b5175bcbe"
      },
      "execution_count": null,
      "outputs": [
        {
          "output_type": "error",
          "ename": "TypeError",
          "evalue": "'tuple' object does not support item assignment",
          "traceback": [
            "\u001b[0;31m---------------------------------------------------------------------------\u001b[0m",
            "\u001b[0;31mTypeError\u001b[0m                                 Traceback (most recent call last)",
            "\u001b[0;32m<ipython-input-5-5f3d90c3f749>\u001b[0m in \u001b[0;36m<cell line: 2>\u001b[0;34m()\u001b[0m\n\u001b[1;32m      1\u001b[0m \u001b[0mf\u001b[0m\u001b[0;34m=\u001b[0m\u001b[0;34m(\u001b[0m\u001b[0;36m2\u001b[0m\u001b[0;34m,\u001b[0m\u001b[0;36m4\u001b[0m\u001b[0;34m,\u001b[0m\u001b[0;34m'tuple'\u001b[0m\u001b[0;34m)\u001b[0m\u001b[0;34m\u001b[0m\u001b[0;34m\u001b[0m\u001b[0m\n\u001b[0;32m----> 2\u001b[0;31m \u001b[0mf\u001b[0m\u001b[0;34m[\u001b[0m\u001b[0;36m1\u001b[0m\u001b[0;34m]\u001b[0m\u001b[0;34m=\u001b[0m\u001b[0;36m2\u001b[0m\u001b[0;34m\u001b[0m\u001b[0;34m\u001b[0m\u001b[0m\n\u001b[0m",
            "\u001b[0;31mTypeError\u001b[0m: 'tuple' object does not support item assignment"
          ]
        }
      ]
    },
    {
      "cell_type": "code",
      "source": [
        "a=[1,2,7,11]\n",
        "a[3]=7\n",
        "print(a)"
      ],
      "metadata": {
        "colab": {
          "base_uri": "https://localhost:8080/"
        },
        "id": "OoJD6EfPG0gj",
        "outputId": "23d9c022-2dbd-445c-b8f0-cb53c41bc141"
      },
      "execution_count": null,
      "outputs": [
        {
          "output_type": "stream",
          "name": "stdout",
          "text": [
            "[1, 2, 7, 7]\n"
          ]
        }
      ]
    },
    {
      "cell_type": "markdown",
      "source": [
        "## Dictionaries\n",
        "Dictionaries are also like list but we can access indivual elements using **keys** instead of indexes"
      ],
      "metadata": {
        "id": "NuQHvsTCNMB3"
      }
    },
    {
      "cell_type": "code",
      "source": [
        "room={\"jack\":32, \"johnny\":4, \"alpha\":8}\n",
        "print(room[\"alpha\"])"
      ],
      "metadata": {
        "colab": {
          "base_uri": "https://localhost:8080/"
        },
        "id": "eJLpbRWpN7-d",
        "outputId": "074447aa-c5ca-4151-a8f2-7d60f0a16271"
      },
      "execution_count": null,
      "outputs": [
        {
          "output_type": "stream",
          "name": "stdout",
          "text": [
            "8\n"
          ]
        }
      ]
    },
    {
      "cell_type": "markdown",
      "source": [
        "# While and for Loop\n",
        "Loops are used to perform the same operation again and again until a certain condition is satisfied."
      ],
      "metadata": {
        "id": "ZHFGO4aeKYIX"
      }
    },
    {
      "cell_type": "markdown",
      "source": [
        "## While loop\n",
        "In while loop we check some Boolean conditions to iterate the loop\n",
        "\n",
        "for example if you want to calculate the first 20 **fibonacci number**"
      ],
      "metadata": {
        "id": "R5a_mCdDrzLk"
      }
    },
    {
      "cell_type": "code",
      "source": [
        "l=[0,1]\n",
        "i=2\n",
        "while i<20:\n",
        "  l.append(l[i-2]+l[i-1])\n",
        "  i+=1\n",
        "print(l)"
      ],
      "metadata": {
        "colab": {
          "base_uri": "https://localhost:8080/"
        },
        "id": "pXDnbOizLeuI",
        "outputId": "fa73166d-bc17-4373-aacc-caaf4af8cce7"
      },
      "execution_count": null,
      "outputs": [
        {
          "output_type": "stream",
          "name": "stdout",
          "text": [
            "[0, 1, 1, 2, 3, 5, 8, 13, 21, 34, 55, 89, 144, 233, 377, 610, 987, 1597, 2584, 4181]\n"
          ]
        }
      ]
    },
    {
      "cell_type": "markdown",
      "source": [
        "## For Loop\n",
        "In for loop instead of condition we use **iteration variable** or loop index\n",
        "\n",
        "Suppose you want to addnumbers from 200 to 300"
      ],
      "metadata": {
        "id": "HBQX0J7jMWuu"
      }
    },
    {
      "cell_type": "code",
      "source": [
        "ans=0\n",
        "for i in range(200,301,1): #301 because last element is exclusive\n",
        "  ans+=i\n",
        "print(ans)"
      ],
      "metadata": {
        "colab": {
          "base_uri": "https://localhost:8080/"
        },
        "id": "jObyTxxuKSXq",
        "outputId": "32b7f66a-9241-434b-eb3a-11da5ecc6bbb"
      },
      "execution_count": null,
      "outputs": [
        {
          "output_type": "stream",
          "name": "stdout",
          "text": [
            "24950\n"
          ]
        }
      ]
    },
    {
      "cell_type": "code",
      "source": [
        "h=list(range(200,301,1))\n",
        "print(h)"
      ],
      "metadata": {
        "colab": {
          "base_uri": "https://localhost:8080/"
        },
        "id": "7QUHDUDWVL27",
        "outputId": "50e8f6b5-c60b-4407-b4fc-d2d77be0561b"
      },
      "execution_count": null,
      "outputs": [
        {
          "output_type": "stream",
          "name": "stdout",
          "text": [
            "[200, 201, 202, 203, 204, 205, 206, 207, 208, 209, 210, 211, 212, 213, 214, 215, 216, 217, 218, 219, 220, 221, 222, 223, 224, 225, 226, 227, 228, 229, 230, 231, 232, 233, 234, 235, 236, 237, 238, 239, 240, 241, 242, 243, 244, 245, 246, 247, 248, 249, 250, 251, 252, 253, 254, 255, 256, 257, 258, 259, 260, 261, 262, 263, 264, 265, 266, 267, 268, 269, 270, 271, 272, 273, 274, 275, 276, 277, 278, 279, 280, 281, 282, 283, 284, 285, 286, 287, 288, 289, 290, 291, 292, 293, 294, 295, 296, 297, 298, 299, 300]\n"
          ]
        }
      ]
    },
    {
      "cell_type": "markdown",
      "source": [
        "# Functions\n",
        "Instead of repeatly writing certain block of codes again and again to perform certain operations we use a subroutine or function which you can call from anywhere to perform a task"
      ],
      "metadata": {
        "id": "ZlFuY7fFVsiN"
      }
    },
    {
      "cell_type": "code",
      "source": [
        "def gaussian(x,mu,sigma):\n",
        "  return np.exp(-(x-mu)**2/(2*sigma**2))/np.sqrt(2*np.pi*sigma**2)"
      ],
      "metadata": {
        "id": "FaHBQ8wLXmwT"
      },
      "execution_count": null,
      "outputs": []
    },
    {
      "cell_type": "code",
      "source": [
        "gaussian(0,0,1)"
      ],
      "metadata": {
        "colab": {
          "base_uri": "https://localhost:8080/"
        },
        "id": "HwQXoiY1YFQb",
        "outputId": "f4e5c7ca-e1c5-4800-8992-9616b368aecf"
      },
      "execution_count": null,
      "outputs": [
        {
          "output_type": "execute_result",
          "data": {
            "text/plain": [
              "0.3989422804014327"
            ]
          },
          "metadata": {},
          "execution_count": 36
        }
      ]
    },
    {
      "cell_type": "markdown",
      "source": [
        "# Plotting with matplot library\n",
        "\n",
        "For plotting in python we use the **matplotlib.pyplot** library for plotting in matplot we need\n",
        "\n",
        "* array of x values ( in 1d array)\n",
        "* array of y values (in 1d array)\n",
        "\n",
        "## plotting functions\n",
        "for plotting any mathematical functions we need to generate the **y** values from array of **x** values. We can use the functions from the standard library numpy or your own functions"
      ],
      "metadata": {
        "id": "C-DS08Co3LdF"
      }
    },
    {
      "cell_type": "code",
      "source": [
        "import matplotlib.pyplot as plt\n",
        "import numpy as np\n",
        "x=np.linspace(0,10,10)  # creating x array\n",
        "y=np.sin(x)\n",
        "plt.plot(x,y,'go-',label='sin(x)')\n",
        "plt.xlabel('x') # label x axis\n",
        "plt.ylabel('y=sinx') #label y axis\n",
        "plt.title('sin(x)')\n",
        "plt.legend(loc='upper right')\n",
        "plt.axhline(0,color='black')\n",
        "plt.axvline(0,color='black')\n",
        "plt.show()"
      ],
      "metadata": {
        "colab": {
          "base_uri": "https://localhost:8080/",
          "height": 492
        },
        "id": "ldJ8TLo54yUH",
        "outputId": "61f808cb-3e94-43f8-e778-f4755dfffb07"
      },
      "execution_count": 42,
      "outputs": [
        {
          "output_type": "display_data",
          "data": {
            "text/plain": [
              "<Figure size 640x480 with 1 Axes>"
            ],
            "image/png": "[encoded data removed]"
          },
          "metadata": {}
        }
      ]
    },
    {
      "cell_type": "markdown",
      "source": [
        "## plt.plot\n",
        "The plot command takes the x and y values and plot the points in the figure. The separated points are then connected by line.\n",
        "\n",
        "The *plot* command takes the following arguments\n",
        "\n",
        "**plt.plot(x data, y data, format, label, *kwargs* )**\n",
        "\n",
        "## format\n",
        "'g-' means connect the y values with green colour line\n",
        "\n",
        "'go-' means mark the y points as **dots** and connect them with line\n",
        "\n",
        "## label\n",
        "label is used to represent a particular curve or data points in the plot. Here we label the **y values** as *sin(x)*\n",
        "\n",
        "## kwargs\n",
        "keyword arguments are optional and can appear in any order provided you use the **keyword**\n",
        "\n",
        "Plot command has the keywords to control **color, linewidth, markersize**\n",
        "\n",
        "plot(x, y, color='green', marker='o', linestyle='dashed',\n",
        "linewidth=2, markersize=12)\n"
      ],
      "metadata": {
        "id": "HPDsUT3I5YDV"
      }
    },
    {
      "cell_type": "code",
      "source": [
        "plt.plot(x,y, color='green', linewidth=2, marker='<', markersize=8, linestyle='dashed', label='sin(x)')\n",
        "plt.legend()\n",
        "plt.show()"
      ],
      "metadata": {
        "colab": {
          "base_uri": "https://localhost:8080/",
          "height": 450
        },
        "id": "bcTSjJKwCImW",
        "outputId": "a76ef2e4-df97-48f4-d68d-df413a57a281"
      },
      "execution_count": 51,
      "outputs": [
        {
          "output_type": "display_data",
          "data": {
            "text/plain": [
              "<Figure size 640x480 with 1 Axes>"
            ],
            "image/png": "[encoded data removed]"
          },
          "metadata": {}
        }
      ]
    },
    {
      "cell_type": "markdown",
      "source": [
        "Now plot more functions!"
      ],
      "metadata": {
        "id": "an--tHNtiHNN"
      }
    },
    {
      "cell_type": "code",
      "source": [
        "x=np.linspace(-np.pi, np.pi, 100)\n",
        "y_sin=np.sin(x)\n",
        "y_cos=np.cos(x)\n",
        "y_cosh=np.cosh(x)\n",
        "plt.plot(x,y_sin,'g-',label='sin(x)')\n",
        "plt.plot(x,y_cos,'r-',label='cos(x)')\n",
        "plt.plot(x,y_cosh,'b--',label='cosh(x)')\n",
        "plt.axhline(0,color='black')\n",
        "plt.axvline(0,color='black')\n",
        "plt.legend(loc='upper right')"
      ],
      "metadata": {
        "colab": {
          "base_uri": "https://localhost:8080/",
          "height": 467
        },
        "id": "ABqjZR7wfZby",
        "outputId": "01ce6ae3-208f-49b9-a922-e0fdcb60c239"
      },
      "execution_count": 2,
      "outputs": [
        {
          "output_type": "execute_result",
          "data": {
            "text/plain": [
              "<matplotlib.legend.Legend at 0x7c83244d0f40>"
            ]
          },
          "metadata": {},
          "execution_count": 2
        },
        {
          "output_type": "display_data",
          "data": {
            "text/plain": [
              "<Figure size 640x480 with 1 Axes>"
            ],
            "image/png": "[encoded data removed]"
          },
          "metadata": {}
        }
      ]
    },
    {
      "cell_type": "markdown",
      "source": [
        "If you don't want to remember all these things **get help from python** using *help* command"
      ],
      "metadata": {
        "id": "eRiIVOjSCeEu"
      }
    },
    {
      "cell_type": "code",
      "source": [
        "help(plt.plot)"
      ],
      "metadata": {
        "colab": {
          "base_uri": "https://localhost:8080/"
        },
        "id": "ZKh4RqLP9ZYh",
        "outputId": "80dee6d9-c359-4323-ca56-751ea3162138",
        "collapsed": true
      },
      "execution_count": null,
      "outputs": [
        {
          "output_type": "stream",
          "name": "stdout",
          "text": [
            "Help on function plot in module matplotlib.pyplot:\n",
            "\n",
            "plot(*args, scalex=True, scaley=True, data=None, **kwargs)\n",
            "    Plot y versus x as lines and/or markers.\n",
            "    \n",
            "    Call signatures::\n",
            "    \n",
            "        plot([x], y, [fmt], *, data=None, **kwargs)\n",
            "        plot([x], y, [fmt], [x2], y2, [fmt2], ..., **kwargs)\n",
            "    \n",
            "    The coordinates of the points or line nodes are given by *x*, *y*.\n",
            "    \n",
            "    The optional parameter *fmt* is a convenient way for defining basic\n",
            "    formatting like color, marker and linestyle. It's a shortcut string\n",
            "    notation described in the *Notes* section below.\n",
            "    \n",
            "    >>> plot(x, y)        # plot x and y using default line style and color\n",
            "    >>> plot(x, y, 'bo')  # plot x and y using blue circle markers\n",
            "    >>> plot(y)           # plot y using x as index array 0..N-1\n",
            "    >>> plot(y, 'r+')     # ditto, but with red plusses\n",
            "    \n",
            "    You can use `.Line2D` properties as keyword arguments for more\n",
            "    control on the appearance. Line properties and *fmt* can be mixed.\n",
            "    The following two calls yield identical results:\n",
            "    \n",
            "    >>> plot(x, y, 'go--', linewidth=2, markersize=12)\n",
            "    >>> plot(x, y, color='green', marker='o', linestyle='dashed',\n",
            "    ...      linewidth=2, markersize=12)\n",
            "    \n",
            "    When conflicting with *fmt*, keyword arguments take precedence.\n",
            "    \n",
            "    \n",
            "    **Plotting labelled data**\n",
            "    \n",
            "    There's a convenient way for plotting objects with labelled data (i.e.\n",
            "    data that can be accessed by index ``obj['y']``). Instead of giving\n",
            "    the data in *x* and *y*, you can provide the object in the *data*\n",
            "    parameter and just give the labels for *x* and *y*::\n",
            "    \n",
            "    >>> plot('xlabel', 'ylabel', data=obj)\n",
            "    \n",
            "    All indexable objects are supported. This could e.g. be a `dict`, a\n",
            "    `pandas.DataFrame` or a structured numpy array.\n",
            "    \n",
            "    \n",
            "    **Plotting multiple sets of data**\n",
            "    \n",
            "    There are various ways to plot multiple sets of data.\n",
            "    \n",
            "    - The most straight forward way is just to call `plot` multiple times.\n",
            "      Example:\n",
            "    \n",
            "      >>> plot(x1, y1, 'bo')\n",
            "      >>> plot(x2, y2, 'go')\n",
            "    \n",
            "    - If *x* and/or *y* are 2D arrays a separate data set will be drawn\n",
            "      for every column. If both *x* and *y* are 2D, they must have the\n",
            "      same shape. If only one of them is 2D with shape (N, m) the other\n",
            "      must have length N and will be used for every data set m.\n",
            "    \n",
            "      Example:\n",
            "    \n",
            "      >>> x = [1, 2, 3]\n",
            "      >>> y = np.array([[1, 2], [3, 4], [5, 6]])\n",
            "      >>> plot(x, y)\n",
            "    \n",
            "      is equivalent to:\n",
            "    \n",
            "      >>> for col in range(y.shape[1]):\n",
            "      ...     plot(x, y[:, col])\n",
            "    \n",
            "    - The third way is to specify multiple sets of *[x]*, *y*, *[fmt]*\n",
            "      groups::\n",
            "    \n",
            "      >>> plot(x1, y1, 'g^', x2, y2, 'g-')\n",
            "    \n",
            "      In this case, any additional keyword argument applies to all\n",
            "      datasets. Also, this syntax cannot be combined with the *data*\n",
            "      parameter.\n",
            "    \n",
            "    By default, each line is assigned a different style specified by a\n",
            "    'style cycle'. The *fmt* and line property parameters are only\n",
            "    necessary if you want explicit deviations from these defaults.\n",
            "    Alternatively, you can also change the style cycle using\n",
            "    :rc:`axes.prop_cycle`.\n",
            "    \n",
            "    \n",
            "    Parameters\n",
            "    ----------\n",
            "    x, y : array-like or scalar\n",
            "        The horizontal / vertical coordinates of the data points.\n",
            "        *x* values are optional and default to ``range(len(y))``.\n",
            "    \n",
            "        Commonly, these parameters are 1D arrays.\n",
            "    \n",
            "        They can also be scalars, or two-dimensional (in that case, the\n",
            "        columns represent separate data sets).\n",
            "    \n",
            "        These arguments cannot be passed as keywords.\n",
            "    \n",
            "    fmt : str, optional\n",
            "        A format string, e.g. 'ro' for red circles. See the *Notes*\n",
            "        section for a full description of the format strings.\n",
            "    \n",
            "        Format strings are just an abbreviation for quickly setting\n",
            "        basic line properties. All of these and more can also be\n",
            "        controlled by keyword arguments.\n",
            "    \n",
            "        This argument cannot be passed as keyword.\n",
            "    \n",
            "    data : indexable object, optional\n",
            "        An object with labelled data. If given, provide the label names to\n",
            "        plot in *x* and *y*.\n",
            "    \n",
            "        .. note::\n",
            "            Technically there's a slight ambiguity in calls where the\n",
            "            second label is a valid *fmt*. ``plot('n', 'o', data=obj)``\n",
            "            could be ``plt(x, y)`` or ``plt(y, fmt)``. In such cases,\n",
            "            the former interpretation is chosen, but a warning is issued.\n",
            "            You may suppress the warning by adding an empty format string\n",
            "            ``plot('n', 'o', '', data=obj)``.\n",
            "    \n",
            "    Returns\n",
            "    -------\n",
            "    list of `.Line2D`\n",
            "        A list of lines representing the plotted data.\n",
            "    \n",
            "    Other Parameters\n",
            "    ----------------\n",
            "    scalex, scaley : bool, default: True\n",
            "        These parameters determine if the view limits are adapted to the\n",
            "        data limits. The values are passed on to\n",
            "        `~.axes.Axes.autoscale_view`.\n",
            "    \n",
            "    **kwargs : `.Line2D` properties, optional\n",
            "        *kwargs* are used to specify properties like a line label (for\n",
            "        auto legends), linewidth, antialiasing, marker face color.\n",
            "        Example::\n",
            "    \n",
            "        >>> plot([1, 2, 3], [1, 2, 3], 'go-', label='line 1', linewidth=2)\n",
            "        >>> plot([1, 2, 3], [1, 4, 9], 'rs', label='line 2')\n",
            "    \n",
            "        If you specify multiple lines with one plot call, the kwargs apply\n",
            "        to all those lines. In case the label object is iterable, each\n",
            "        element is used as labels for each set of data.\n",
            "    \n",
            "        Here is a list of available `.Line2D` properties:\n",
            "    \n",
            "        Properties:\n",
            "        agg_filter: a filter function, which takes a (m, n, 3) float array and a dpi value, and returns a (m, n, 3) array and two offsets from the bottom left corner of the image\n",
            "        alpha: scalar or None\n",
            "        animated: bool\n",
            "        antialiased or aa: bool\n",
            "        clip_box: `.Bbox`\n",
            "        clip_on: bool\n",
            "        clip_path: Patch or (Path, Transform) or None\n",
            "        color or c: color\n",
            "        dash_capstyle: `.CapStyle` or {'butt', 'projecting', 'round'}\n",
            "        dash_joinstyle: `.JoinStyle` or {'miter', 'round', 'bevel'}\n",
            "        dashes: sequence of floats (on/off ink in points) or (None, None)\n",
            "        data: (2, N) array or two 1D arrays\n",
            "        drawstyle or ds: {'default', 'steps', 'steps-pre', 'steps-mid', 'steps-post'}, default: 'default'\n",
            "        figure: `.Figure`\n",
            "        fillstyle: {'full', 'left', 'right', 'bottom', 'top', 'none'}\n",
            "        gapcolor: color or None\n",
            "        gid: str\n",
            "        in_layout: bool\n",
            "        label: object\n",
            "        linestyle or ls: {'-', '--', '-.', ':', '', (offset, on-off-seq), ...}\n",
            "        linewidth or lw: float\n",
            "        marker: marker style string, `~.path.Path` or `~.markers.MarkerStyle`\n",
            "        markeredgecolor or mec: color\n",
            "        markeredgewidth or mew: float\n",
            "        markerfacecolor or mfc: color\n",
            "        markerfacecoloralt or mfcalt: color\n",
            "        markersize or ms: float\n",
            "        markevery: None or int or (int, int) or slice or list[int] or float or (float, float) or list[bool]\n",
            "        mouseover: bool\n",
            "        path_effects: `.AbstractPathEffect`\n",
            "        picker: float or callable[[Artist, Event], tuple[bool, dict]]\n",
            "        pickradius: unknown\n",
            "        rasterized: bool\n",
            "        sketch_params: (scale: float, length: float, randomness: float)\n",
            "        snap: bool or None\n",
            "        solid_capstyle: `.CapStyle` or {'butt', 'projecting', 'round'}\n",
            "        solid_joinstyle: `.JoinStyle` or {'miter', 'round', 'bevel'}\n",
            "        transform: unknown\n",
            "        url: str\n",
            "        visible: bool\n",
            "        xdata: 1D array\n",
            "        ydata: 1D array\n",
            "        zorder: float\n",
            "    \n",
            "    See Also\n",
            "    --------\n",
            "    scatter : XY scatter plot with markers of varying size and/or color (\n",
            "        sometimes also called bubble chart).\n",
            "    \n",
            "    Notes\n",
            "    -----\n",
            "    **Format Strings**\n",
            "    \n",
            "    A format string consists of a part for color, marker and line::\n",
            "    \n",
            "        fmt = '[marker][line][color]'\n",
            "    \n",
            "    Each of them is optional. If not provided, the value from the style\n",
            "    cycle is used. Exception: If ``line`` is given, but no ``marker``,\n",
            "    the data will be a line without markers.\n",
            "    \n",
            "    Other combinations such as ``[color][marker][line]`` are also\n",
            "    supported, but note that their parsing may be ambiguous.\n",
            "    \n",
            "    **Markers**\n",
            "    \n",
            "    =============   ===============================\n",
            "    character       description\n",
            "    =============   ===============================\n",
            "    ``'.'``         point marker\n",
            "    ``','``         pixel marker\n",
            "    ``'o'``         circle marker\n",
            "    ``'v'``         triangle_down marker\n",
            "    ``'^'``         triangle_up marker\n",
            "    ``'<'``         triangle_left marker\n",
            "    ``'>'``         triangle_right marker\n",
            "    ``'1'``         tri_down marker\n",
            "    ``'2'``         tri_up marker\n",
            "    ``'3'``         tri_left marker\n",
            "    ``'4'``         tri_right marker\n",
            "    ``'8'``         octagon marker\n",
            "    ``'s'``         square marker\n",
            "    ``'p'``         pentagon marker\n",
            "    ``'P'``         plus (filled) marker\n",
            "    ``'*'``         star marker\n",
            "    ``'h'``         hexagon1 marker\n",
            "    ``'H'``         hexagon2 marker\n",
            "    ``'+'``         plus marker\n",
            "    ``'x'``         x marker\n",
            "    ``'X'``         x (filled) marker\n",
            "    ``'D'``         diamond marker\n",
            "    ``'d'``         thin_diamond marker\n",
            "    ``'|'``         vline marker\n",
            "    ``'_'``         hline marker\n",
            "    =============   ===============================\n",
            "    \n",
            "    **Line Styles**\n",
            "    \n",
            "    =============    ===============================\n",
            "    character        description\n",
            "    =============    ===============================\n",
            "    ``'-'``          solid line style\n",
            "    ``'--'``         dashed line style\n",
            "    ``'-.'``         dash-dot line style\n",
            "    ``':'``          dotted line style\n",
            "    =============    ===============================\n",
            "    \n",
            "    Example format strings::\n",
            "    \n",
            "        'b'    # blue markers with default shape\n",
            "        'or'   # red circles\n",
            "        '-g'   # green solid line\n",
            "        '--'   # dashed line with default color\n",
            "        '^k:'  # black triangle_up markers connected by a dotted line\n",
            "    \n",
            "    **Colors**\n",
            "    \n",
            "    The supported color abbreviations are the single letter codes\n",
            "    \n",
            "    =============    ===============================\n",
            "    character        color\n",
            "    =============    ===============================\n",
            "    ``'b'``          blue\n",
            "    ``'g'``          green\n",
            "    ``'r'``          red\n",
            "    ``'c'``          cyan\n",
            "    ``'m'``          magenta\n",
            "    ``'y'``          yellow\n",
            "    ``'k'``          black\n",
            "    ``'w'``          white\n",
            "    =============    ===============================\n",
            "    \n",
            "    and the ``'CN'`` colors that index into the default property cycle.\n",
            "    \n",
            "    If the color is the only part of the format string, you can\n",
            "    additionally use any  `matplotlib.colors` spec, e.g. full names\n",
            "    (``'green'``) or hex strings (``'#008000'``).\n",
            "\n"
          ]
        }
      ]
    },
    {
      "cell_type": "markdown",
      "source": [
        "## plotting from data file\n",
        "We can plot experimental data which is in the format of\n",
        "\n",
        "\n",
        "* Excel (.xlsx)\n",
        "* Csv (.csv)\n",
        "* Text file (.txt)\n",
        "\n",
        "using the libraries **pandas** and **numpy**\n",
        "\n",
        "\n",
        "\n",
        "\n"
      ],
      "metadata": {
        "id": "zbMIAA1YYZU-"
      }
    },
    {
      "cell_type": "markdown",
      "source": [
        "Pandas has the following functions to read data from files\n",
        "* *read_table* -> read tabular data from text files\n",
        "* *read_csv* -> read data from csv files\n",
        "* *read_excel* -> read data from excel files"
      ],
      "metadata": {
        "id": "k-V9wnBPYQ4e"
      }
    },
    {
      "cell_type": "code",
      "source": [
        "%cd /content/sample_data"
      ],
      "metadata": {
        "colab": {
          "base_uri": "https://localhost:8080/"
        },
        "id": "P7cFUK2p1SHF",
        "outputId": "0978dfac-4dc0-4826-ecfe-f35388bfeb7b"
      },
      "execution_count": 9,
      "outputs": [
        {
          "output_type": "stream",
          "name": "stdout",
          "text": [
            "/content/sample_data\n"
          ]
        }
      ]
    },
    {
      "cell_type": "code",
      "source": [
        "data=pd.read_excel('CIE_xyz_1931_2deg.xlsx')"
      ],
      "metadata": {
        "id": "r-8CqDLeZFx_"
      },
      "execution_count": 32,
      "outputs": []
    },
    {
      "cell_type": "markdown",
      "source": [
        "Here pandas read the data from the **file** 'CIE_xyz_1931_2deg.xlsx' and pass it to the object *data*  "
      ],
      "metadata": {
        "id": "dcpS5DNhprop"
      }
    },
    {
      "cell_type": "code",
      "source": [
        "data"
      ],
      "metadata": {
        "colab": {
          "base_uri": "https://localhost:8080/",
          "height": 444
        },
        "id": "r8peEi-1qkkO",
        "outputId": "b47131c0-525d-418f-b10b-13ad54c19726"
      },
      "execution_count": 33,
      "outputs": [
        {
          "output_type": "execute_result",
          "data": {
            "text/plain": [
              "     wave_length         x             y         z\n",
              "0            360  0.000130  3.917000e-06  0.000606\n",
              "1            361  0.000146  4.393581e-06  0.000681\n",
              "2            362  0.000164  4.929604e-06  0.000765\n",
              "3            363  0.000184  5.532136e-06  0.000860\n",
              "4            364  0.000207  6.208245e-06  0.000967\n",
              "..           ...       ...           ...       ...\n",
              "466          826  0.000002  5.980895e-07  0.000000\n",
              "467          827  0.000002  5.575746e-07  0.000000\n",
              "468          828  0.000001  5.198080e-07  0.000000\n",
              "469          829  0.000001  4.846123e-07  0.000000\n",
              "470          830  0.000001  4.518100e-07  0.000000\n",
              "\n",
              "[471 rows x 4 columns]"
            ],
            "text/html": [
              "\n",
              "  <div id=\"df-d7fdd3cf-61bb-4f4a-919c-16651fa0cefa\" class=\"colab-df-container\">\n",
              "    <div>\n",
              "<style scoped>\n",
              "    .dataframe tbody tr th:only-of-type {\n",
              "        vertical-align: middle;\n",
              "    }\n",
              "\n",
              "    .dataframe tbody tr th {\n",
              "        vertical-align: top;\n",
              "    }\n",
              "\n",
              "    .dataframe thead th {\n",
              "        text-align: right;\n",
              "    }\n",
              "</style>\n",
              "<table border=\"1\" class=\"dataframe\">\n",
              "  <thead>\n",
              "    <tr style=\"text-align: right;\">\n",
              "      <th></th>\n",
              "      <th>wave_length</th>\n",
              "      <th>x</th>\n",
              "      <th>y</th>\n",
              "      <th>z</th>\n",
              "    </tr>\n",
              "  </thead>\n",
              "  <tbody>\n",
              "    <tr>\n",
              "      <th>0</th>\n",
              "      <td>360</td>\n",
              "      <td>0.000130</td>\n",
              "      <td>3.917000e-06</td>\n",
              "      <td>0.000606</td>\n",
              "    </tr>\n",
              "    <tr>\n",
              "      <th>1</th>\n",
              "      <td>361</td>\n",
              "      <td>0.000146</td>\n",
              "      <td>4.393581e-06</td>\n",
              "      <td>0.000681</td>\n",
              "    </tr>\n",
              "    <tr>\n",
              "      <th>2</th>\n",
              "      <td>362</td>\n",
              "      <td>0.000164</td>\n",
              "      <td>4.929604e-06</td>\n",
              "      <td>0.000765</td>\n",
              "    </tr>\n",
              "    <tr>\n",
              "      <th>3</th>\n",
              "      <td>363</td>\n",
              "      <td>0.000184</td>\n",
              "      <td>5.532136e-06</td>\n",
              "      <td>0.000860</td>\n",
              "    </tr>\n",
              "    <tr>\n",
              "      <th>4</th>\n",
              "      <td>364</td>\n",
              "      <td>0.000207</td>\n",
              "      <td>6.208245e-06</td>\n",
              "      <td>0.000967</td>\n",
              "    </tr>\n",
              "    <tr>\n",
              "      <th>...</th>\n",
              "      <td>...</td>\n",
              "      <td>...</td>\n",
              "      <td>...</td>\n",
              "      <td>...</td>\n",
              "    </tr>\n",
              "    <tr>\n",
              "      <th>466</th>\n",
              "      <td>826</td>\n",
              "      <td>0.000002</td>\n",
              "      <td>5.980895e-07</td>\n",
              "      <td>0.000000</td>\n",
              "    </tr>\n",
              "    <tr>\n",
              "      <th>467</th>\n",
              "      <td>827</td>\n",
              "      <td>0.000002</td>\n",
              "      <td>5.575746e-07</td>\n",
              "      <td>0.000000</td>\n",
              "    </tr>\n",
              "    <tr>\n",
              "      <th>468</th>\n",
              "      <td>828</td>\n",
              "      <td>0.000001</td>\n",
              "      <td>5.198080e-07</td>\n",
              "      <td>0.000000</td>\n",
              "    </tr>\n",
              "    <tr>\n",
              "      <th>469</th>\n",
              "      <td>829</td>\n",
              "      <td>0.000001</td>\n",
              "      <td>4.846123e-07</td>\n",
              "      <td>0.000000</td>\n",
              "    </tr>\n",
              "    <tr>\n",
              "      <th>470</th>\n",
              "      <td>830</td>\n",
              "      <td>0.000001</td>\n",
              "      <td>4.518100e-07</td>\n",
              "      <td>0.000000</td>\n",
              "    </tr>\n",
              "  </tbody>\n",
              "</table>\n",
              "<p>471 rows × 4 columns</p>\n",
              "</div>\n",
              "    <div class=\"colab-df-buttons\">\n",
              "\n",
              "  <div class=\"colab-df-container\">\n",
              "    <button class=\"colab-df-convert\" onclick=\"convertToInteractive('df-d7fdd3cf-61bb-4f4a-919c-16651fa0cefa')\"\n",
              "            title=\"Convert this dataframe to an interactive table.\"\n",
              "            style=\"display:none;\">\n",
              "\n",
              "  <svg xmlns=\"http://www.w3.org/2000/svg\" height=\"24px\" viewBox=\"0 -960 960 960\">\n",
              "    <path d=\"M120-120v-720h720v720H120Zm60-500h600v-160H180v160Zm220 220h160v-160H400v160Zm0 220h160v-160H400v160ZM180-400h160v-160H180v160Zm440 0h160v-160H620v160ZM180-180h160v-160H180v160Zm440 0h160v-160H620v160Z\"/>\n",
              "  </svg>\n",
              "    </button>\n",
              "\n",
              "  <style>\n",
              "    .colab-df-container {\n",
              "      display:flex;\n",
              "      gap: 12px;\n",
              "    }\n",
              "\n",
              "    .colab-df-convert {\n",
              "      background-color: #E8F0FE;\n",
              "      border: none;\n",
              "      border-radius: 50%;\n",
              "      cursor: pointer;\n",
              "      display: none;\n",
              "      fill: #1967D2;\n",
              "      height: 32px;\n",
              "      padding: 0 0 0 0;\n",
              "      width: 32px;\n",
              "    }\n",
              "\n",
              "    .colab-df-convert:hover {\n",
              "      background-color: #E2EBFA;\n",
              "      box-shadow: 0px 1px 2px rgba(60, 64, 67, 0.3), 0px 1px 3px 1px rgba(60, 64, 67, 0.15);\n",
              "      fill: #174EA6;\n",
              "    }\n",
              "\n",
              "    .colab-df-buttons div {\n",
              "      margin-bottom: 4px;\n",
              "    }\n",
              "\n",
              "    [theme=dark] .colab-df-convert {\n",
              "      background-color: #3B4455;\n",
              "      fill: #D2E3FC;\n",
              "    }\n",
              "\n",
              "    [theme=dark] .colab-df-convert:hover {\n",
              "      background-color: #434B5C;\n",
              "      box-shadow: 0px 1px 3px 1px rgba(0, 0, 0, 0.15);\n",
              "      filter: drop-shadow(0px 1px 2px rgba(0, 0, 0, 0.3));\n",
              "      fill: #FFFFFF;\n",
              "    }\n",
              "  </style>\n",
              "\n",
              "    <script>\n",
              "      const buttonEl =\n",
              "        document.querySelector('#df-d7fdd3cf-61bb-4f4a-919c-16651fa0cefa button.colab-df-convert');\n",
              "      buttonEl.style.display =\n",
              "        google.colab.kernel.accessAllowed ? 'block' : 'none';\n",
              "\n",
              "      async function convertToInteractive(key) {\n",
              "        const element = document.querySelector('#df-d7fdd3cf-61bb-4f4a-919c-16651fa0cefa');\n",
              "        const dataTable =\n",
              "          await google.colab.kernel.invokeFunction('convertToInteractive',\n",
              "                                                    [key], {});\n",
              "        if (!dataTable) return;\n",
              "\n",
              "        const docLinkHtml = 'Like what you see? Visit the ' +\n",
              "          '<a target=\"_blank\" href=https://colab.research.google.com/notebooks/data_table.ipynb>data table notebook</a>'\n",
              "          + ' to learn more about interactive tables.';\n",
              "        element.innerHTML = '';\n",
              "        dataTable['output_type'] = 'display_data';\n",
              "        await google.colab.output.renderOutput(dataTable, element);\n",
              "        const docLink = document.createElement('div');\n",
              "        docLink.innerHTML = docLinkHtml;\n",
              "        element.appendChild(docLink);\n",
              "      }\n",
              "    </script>\n",
              "  </div>\n",
              "\n",
              "\n",
              "<div id=\"df-67894ec6-8e7d-4863-8856-a69b44d8d195\">\n",
              "  <button class=\"colab-df-quickchart\" onclick=\"quickchart('df-67894ec6-8e7d-4863-8856-a69b44d8d195')\"\n",
              "            title=\"Suggest charts\"\n",
              "            style=\"display:none;\">\n",
              "\n",
              "<svg xmlns=\"http://www.w3.org/2000/svg\" height=\"24px\"viewBox=\"0 0 24 24\"\n",
              "     width=\"24px\">\n",
              "    <g>\n",
              "        <path d=\"M19 3H5c-1.1 0-2 .9-2 2v14c0 1.1.9 2 2 2h14c1.1 0 2-.9 2-2V5c0-1.1-.9-2-2-2zM9 17H7v-7h2v7zm4 0h-2V7h2v10zm4 0h-2v-4h2v4z\"/>\n",
              "    </g>\n",
              "</svg>\n",
              "  </button>\n",
              "\n",
              "<style>\n",
              "  .colab-df-quickchart {\n",
              "      --bg-color: #E8F0FE;\n",
              "      --fill-color: #1967D2;\n",
              "      --hover-bg-color: #E2EBFA;\n",
              "      --hover-fill-color: #174EA6;\n",
              "      --disabled-fill-color: #AAA;\n",
              "      --disabled-bg-color: #DDD;\n",
              "  }\n",
              "\n",
              "  [theme=dark] .colab-df-quickchart {\n",
              "      --bg-color: #3B4455;\n",
              "      --fill-color: #D2E3FC;\n",
              "      --hover-bg-color: #434B5C;\n",
              "      --hover-fill-color: #FFFFFF;\n",
              "      --disabled-bg-color: #3B4455;\n",
              "      --disabled-fill-color: #666;\n",
              "  }\n",
              "\n",
              "  .colab-df-quickchart {\n",
              "    background-color: var(--bg-color);\n",
              "    border: none;\n",
              "    border-radius: 50%;\n",
              "    cursor: pointer;\n",
              "    display: none;\n",
              "    fill: var(--fill-color);\n",
              "    height: 32px;\n",
              "    padding: 0;\n",
              "    width: 32px;\n",
              "  }\n",
              "\n",
              "  .colab-df-quickchart:hover {\n",
              "    background-color: var(--hover-bg-color);\n",
              "    box-shadow: 0 1px 2px rgba(60, 64, 67, 0.3), 0 1px 3px 1px rgba(60, 64, 67, 0.15);\n",
              "    fill: var(--button-hover-fill-color);\n",
              "  }\n",
              "\n",
              "  .colab-df-quickchart-complete:disabled,\n",
              "  .colab-df-quickchart-complete:disabled:hover {\n",
              "    background-color: var(--disabled-bg-color);\n",
              "    fill: var(--disabled-fill-color);\n",
              "    box-shadow: none;\n",
              "  }\n",
              "\n",
              "  .colab-df-spinner {\n",
              "    border: 2px solid var(--fill-color);\n",
              "    border-color: transparent;\n",
              "    border-bottom-color: var(--fill-color);\n",
              "    animation:\n",
              "      spin 1s steps(1) infinite;\n",
              "  }\n",
              "\n",
              "  @keyframes spin {\n",
              "    0% {\n",
              "      border-color: transparent;\n",
              "      border-bottom-color: var(--fill-color);\n",
              "      border-left-color: var(--fill-color);\n",
              "    }\n",
              "    20% {\n",
              "      border-color: transparent;\n",
              "      border-left-color: var(--fill-color);\n",
              "      border-top-color: var(--fill-color);\n",
              "    }\n",
              "    30% {\n",
              "      border-color: transparent;\n",
              "      border-left-color: var(--fill-color);\n",
              "      border-top-color: var(--fill-color);\n",
              "      border-right-color: var(--fill-color);\n",
              "    }\n",
              "    40% {\n",
              "      border-color: transparent;\n",
              "      border-right-color: var(--fill-color);\n",
              "      border-top-color: var(--fill-color);\n",
              "    }\n",
              "    60% {\n",
              "      border-color: transparent;\n",
              "      border-right-color: var(--fill-color);\n",
              "    }\n",
              "    80% {\n",
              "      border-color: transparent;\n",
              "      border-right-color: var(--fill-color);\n",
              "      border-bottom-color: var(--fill-color);\n",
              "    }\n",
              "    90% {\n",
              "      border-color: transparent;\n",
              "      border-bottom-color: var(--fill-color);\n",
              "    }\n",
              "  }\n",
              "</style>\n",
              "\n",
              "  <script>\n",
              "    async function quickchart(key) {\n",
              "      const quickchartButtonEl =\n",
              "        document.querySelector('#' + key + ' button');\n",
              "      quickchartButtonEl.disabled = true;  // To prevent multiple clicks.\n",
              "      quickchartButtonEl.classList.add('colab-df-spinner');\n",
              "      try {\n",
              "        const charts = await google.colab.kernel.invokeFunction(\n",
              "            'suggestCharts', [key], {});\n",
              "      } catch (error) {\n",
              "        console.error('Error during call to suggestCharts:', error);\n",
              "      }\n",
              "      quickchartButtonEl.classList.remove('colab-df-spinner');\n",
              "      quickchartButtonEl.classList.add('colab-df-quickchart-complete');\n",
              "    }\n",
              "    (() => {\n",
              "      let quickchartButtonEl =\n",
              "        document.querySelector('#df-67894ec6-8e7d-4863-8856-a69b44d8d195 button');\n",
              "      quickchartButtonEl.style.display =\n",
              "        google.colab.kernel.accessAllowed ? 'block' : 'none';\n",
              "    })();\n",
              "  </script>\n",
              "</div>\n",
              "\n",
              "  <div id=\"id_ab1e04dd-f9fa-42e0-9250-fd473bcc2acb\">\n",
              "    <style>\n",
              "      .colab-df-generate {\n",
              "        background-color: #E8F0FE;\n",
              "        border: none;\n",
              "        border-radius: 50%;\n",
              "        cursor: pointer;\n",
              "        display: none;\n",
              "        fill: #1967D2;\n",
              "        height: 32px;\n",
              "        padding: 0 0 0 0;\n",
              "        width: 32px;\n",
              "      }\n",
              "\n",
              "      .colab-df-generate:hover {\n",
              "        background-color: #E2EBFA;\n",
              "        box-shadow: 0px 1px 2px rgba(60, 64, 67, 0.3), 0px 1px 3px 1px rgba(60, 64, 67, 0.15);\n",
              "        fill: #174EA6;\n",
              "      }\n",
              "\n",
              "      [theme=dark] .colab-df-generate {\n",
              "        background-color: #3B4455;\n",
              "        fill: #D2E3FC;\n",
              "      }\n",
              "\n",
              "      [theme=dark] .colab-df-generate:hover {\n",
              "        background-color: #434B5C;\n",
              "        box-shadow: 0px 1px 3px 1px rgba(0, 0, 0, 0.15);\n",
              "        filter: drop-shadow(0px 1px 2px rgba(0, 0, 0, 0.3));\n",
              "        fill: #FFFFFF;\n",
              "      }\n",
              "    </style>\n",
              "    <button class=\"colab-df-generate\" onclick=\"generateWithVariable('data')\"\n",
              "            title=\"Generate code using this dataframe.\"\n",
              "            style=\"display:none;\">\n",
              "\n",
              "  <svg xmlns=\"http://www.w3.org/2000/svg\" height=\"24px\"viewBox=\"0 0 24 24\"\n",
              "       width=\"24px\">\n",
              "    <path d=\"M7,19H8.4L18.45,9,17,7.55,7,17.6ZM5,21V16.75L18.45,3.32a2,2,0,0,1,2.83,0l1.4,1.43a1.91,1.91,0,0,1,.58,1.4,1.91,1.91,0,0,1-.58,1.4L9.25,21ZM18.45,9,17,7.55Zm-12,3A5.31,5.31,0,0,0,4.9,8.1,5.31,5.31,0,0,0,1,6.5,5.31,5.31,0,0,0,4.9,4.9,5.31,5.31,0,0,0,6.5,1,5.31,5.31,0,0,0,8.1,4.9,5.31,5.31,0,0,0,12,6.5,5.46,5.46,0,0,0,6.5,12Z\"/>\n",
              "  </svg>\n",
              "    </button>\n",
              "    <script>\n",
              "      (() => {\n",
              "      const buttonEl =\n",
              "        document.querySelector('#id_ab1e04dd-f9fa-42e0-9250-fd473bcc2acb button.colab-df-generate');\n",
              "      buttonEl.style.display =\n",
              "        google.colab.kernel.accessAllowed ? 'block' : 'none';\n",
              "\n",
              "      buttonEl.onclick = () => {\n",
              "        google.colab.notebook.generateWithVariable('data');\n",
              "      }\n",
              "      })();\n",
              "    </script>\n",
              "  </div>\n",
              "\n",
              "    </div>\n",
              "  </div>\n"
            ],
            "application/vnd.google.colaboratory.intrinsic+json": {
              "type": "dataframe",
              "variable_name": "data",
              "summary": "{\n  \"name\": \"data\",\n  \"rows\": 471,\n  \"fields\": [\n    {\n      \"column\": \"wave_length\",\n      \"properties\": {\n        \"dtype\": \"number\",\n        \"std\": 136,\n        \"min\": 360,\n        \"max\": 830,\n        \"num_unique_values\": 471,\n        \"samples\": [\n          415,\n          433,\n          393\n        ],\n        \"semantic_type\": \"\",\n        \"description\": \"\"\n      }\n    },\n    {\n      \"column\": \"x\",\n      \"properties\": {\n        \"dtype\": \"number\",\n        \"std\": 0.3186505293926802,\n        \"min\": 1.251141e-06,\n        \"max\": 1.0629096,\n        \"num_unique_values\": 471,\n        \"samples\": [\n          0.07763,\n          0.3137873,\n          0.005978712\n        ],\n        \"semantic_type\": \"\",\n        \"description\": \"\"\n      }\n    },\n    {\n      \"column\": \"y\",\n      \"properties\": {\n        \"dtype\": \"number\",\n        \"std\": 0.3356797343429439,\n        \"min\": 4.5181e-07,\n        \"max\": 1.0,\n        \"num_unique_values\": 469,\n        \"samples\": [\n          0.00218,\n          0.01462968,\n          0.000170208\n        ],\n        \"semantic_type\": \"\",\n        \"description\": \"\"\n      }\n    },\n    {\n      \"column\": \"z\",\n      \"properties\": {\n        \"dtype\": \"number\",\n        \"std\": 0.4970731665470696,\n        \"min\": 0.0,\n        \"max\": 1.7829682,\n        \"num_unique_values\": 291,\n        \"samples\": [\n          1.7804334,\n          0.0002021867,\n          0.1102\n        ],\n        \"semantic_type\": \"\",\n        \"description\": \"\"\n      }\n    }\n  ]\n}"
            }
          },
          "metadata": {},
          "execution_count": 33
        }
      ]
    },
    {
      "cell_type": "markdown",
      "source": [
        "The data object is a **dataframe**. In dataframe every column is stored as an **array**. If you want a column"
      ],
      "metadata": {
        "id": "ZCM3lS0fr1LB"
      }
    },
    {
      "cell_type": "code",
      "source": [
        "data.x"
      ],
      "metadata": {
        "colab": {
          "base_uri": "https://localhost:8080/",
          "height": 478
        },
        "id": "GUwDZqy6rZHg",
        "outputId": "1ffe4bd1-c704-48c0-81f0-8346782eb0c7"
      },
      "execution_count": 34,
      "outputs": [
        {
          "output_type": "execute_result",
          "data": {
            "text/plain": [
              "0      0.000130\n",
              "1      0.000146\n",
              "2      0.000164\n",
              "3      0.000184\n",
              "4      0.000207\n",
              "         ...   \n",
              "466    0.000002\n",
              "467    0.000002\n",
              "468    0.000001\n",
              "469    0.000001\n",
              "470    0.000001\n",
              "Name: x, Length: 471, dtype: float64"
            ],
            "text/html": [
              "<div>\n",
              "<style scoped>\n",
              "    .dataframe tbody tr th:only-of-type {\n",
              "        vertical-align: middle;\n",
              "    }\n",
              "\n",
              "    .dataframe tbody tr th {\n",
              "        vertical-align: top;\n",
              "    }\n",
              "\n",
              "    .dataframe thead th {\n",
              "        text-align: right;\n",
              "    }\n",
              "</style>\n",
              "<table border=\"1\" class=\"dataframe\">\n",
              "  <thead>\n",
              "    <tr style=\"text-align: right;\">\n",
              "      <th></th>\n",
              "      <th>x</th>\n",
              "    </tr>\n",
              "  </thead>\n",
              "  <tbody>\n",
              "    <tr>\n",
              "      <th>0</th>\n",
              "      <td>0.000130</td>\n",
              "    </tr>\n",
              "    <tr>\n",
              "      <th>1</th>\n",
              "      <td>0.000146</td>\n",
              "    </tr>\n",
              "    <tr>\n",
              "      <th>2</th>\n",
              "      <td>0.000164</td>\n",
              "    </tr>\n",
              "    <tr>\n",
              "      <th>3</th>\n",
              "      <td>0.000184</td>\n",
              "    </tr>\n",
              "    <tr>\n",
              "      <th>4</th>\n",
              "      <td>0.000207</td>\n",
              "    </tr>\n",
              "    <tr>\n",
              "      <th>...</th>\n",
              "      <td>...</td>\n",
              "    </tr>\n",
              "    <tr>\n",
              "      <th>466</th>\n",
              "      <td>0.000002</td>\n",
              "    </tr>\n",
              "    <tr>\n",
              "      <th>467</th>\n",
              "      <td>0.000002</td>\n",
              "    </tr>\n",
              "    <tr>\n",
              "      <th>468</th>\n",
              "      <td>0.000001</td>\n",
              "    </tr>\n",
              "    <tr>\n",
              "      <th>469</th>\n",
              "      <td>0.000001</td>\n",
              "    </tr>\n",
              "    <tr>\n",
              "      <th>470</th>\n",
              "      <td>0.000001</td>\n",
              "    </tr>\n",
              "  </tbody>\n",
              "</table>\n",
              "<p>471 rows × 1 columns</p>\n",
              "</div><br><label><b>dtype:</b> float64</label>"
            ]
          },
          "metadata": {},
          "execution_count": 34
        }
      ]
    },
    {
      "cell_type": "markdown",
      "source": [
        "Now we will plot using matplotlib"
      ],
      "metadata": {
        "id": "CHjn1IbArreg"
      }
    },
    {
      "cell_type": "code",
      "source": [
        "plt.plot(data.wave_length, data.x, 'g-', label='x')\n",
        "plt.plot(data.wave_length, data.y, 'r-', label='y')\n",
        "plt.plot(data.wave_length, data.z, 'm', label='z')\n",
        "plt.legend(loc='upper right')"
      ],
      "metadata": {
        "colab": {
          "base_uri": "https://localhost:8080/",
          "height": 467
        },
        "id": "jkla34aRr8N0",
        "outputId": "02f68034-9c88-42af-f83e-f09b6091f4f8"
      },
      "execution_count": 40,
      "outputs": [
        {
          "output_type": "execute_result",
          "data": {
            "text/plain": [
              "<matplotlib.legend.Legend at 0x7c831ecb2aa0>"
            ]
          },
          "metadata": {},
          "execution_count": 40
        },
        {
          "output_type": "display_data",
          "data": {
            "text/plain": [
              "<Figure size 640x480 with 1 Axes>"
            ],
            "image/png": "[encoded data removed]"
          },
          "metadata": {}
        }
      ]
    },
    {
      "cell_type": "markdown",
      "source": [
        "## Multiple plots\n",
        "Now we will plot more graphs in single figure using **subplots** command in plt"
      ],
      "metadata": {
        "id": "lt3jJzQrezAz"
      }
    },
    {
      "cell_type": "code",
      "source": [
        "x1=np.linspace(-np.pi, np.pi, 100)\n",
        "x2=np.linspace(-10,10,100)\n",
        "y_exp=np.exp(-x1**2)\n",
        "y_sinc=np.sin(x2)/x2\n",
        "plt.subplot(2,1,1)\n",
        "plt.plot(x1, y_exp, 'g-', label='gaussian')\n",
        "plt.axvline(0, color='black')\n",
        "plt.axhline(0, color='black')\n",
        "plt.legend(loc='upper right')\n",
        "# another suplot\n",
        "plt.subplot(2,1,2)\n",
        "plt.plot(x2, y_sinc, 'r-', label='sinc')\n",
        "plt.legend(loc='upper right')\n",
        "plt.axvline(0, color='black')\n",
        "plt.axhline(0, color='black')\n",
        "plt.show()"
      ],
      "metadata": {
        "colab": {
          "base_uri": "https://localhost:8080/",
          "height": 450
        },
        "id": "FdCFZ9z5jtjX",
        "outputId": "40d4dc47-5c71-4269-8b39-c996db779f90"
      },
      "execution_count": 6,
      "outputs": [
        {
          "output_type": "display_data",
          "data": {
            "text/plain": [
              "<Figure size 640x480 with 2 Axes>"
            ],
            "image/png": "[encoded data removed]"
          },
          "metadata": {}
        }
      ]
    },
    {
      "cell_type": "markdown",
      "source": [
        "Now how you will plot two subplots side by side ?"
      ],
      "metadata": {
        "id": "DhbyCBq3otY9"
      }
    },
    {
      "cell_type": "code",
      "source": [
        "# plt.figure(figsize=(9,3))\n",
        "plt.subplot(1,2,1)\n",
        "plt.plot(x1, y_exp, 'b')\n",
        "plt.axvline(color='black')\n",
        "# another subplot\n",
        "plt.subplot(1,2,2)\n",
        "plt.plot(x2, y_sinc, 'c')\n",
        "plt.axhline(color='black')\n",
        "plt.axvline(color='black')\n",
        "plt.show()"
      ],
      "metadata": {
        "colab": {
          "base_uri": "https://localhost:8080/",
          "height": 450
        },
        "id": "Macd6uddk6gj",
        "outputId": "aa21b319-2dc6-4c6d-b62d-e350edde08ae"
      },
      "execution_count": 7,
      "outputs": [
        {
          "output_type": "display_data",
          "data": {
            "text/plain": [
              "<Figure size 640x480 with 2 Axes>"
            ],
            "image/png": "[encoded data removed]"
          },
          "metadata": {}
        }
      ]
    },
    {
      "cell_type": "markdown",
      "source": [
        "## Latex text\n",
        "Now we will write some **mathematical symbols and  equations** for our plots"
      ],
      "metadata": {
        "id": "qstdYVw2W_S8"
      }
    },
    {
      "cell_type": "code",
      "source": [
        "x=np.linspace(-10,10,100)\n",
        "mu=2\n",
        "sigma=1\n",
        "y_gauss=np.exp(-(x-mu)**2/(2*sigma**2))/np.sqrt(2*np.pi*sigma**2)\n",
        "plt.plot(x,y_gauss, 'g-', label=r'$y=e^{-\\frac{(x-\\mu)^2}{2\\sigma^2}}$')\n",
        "plt.text(-6.0,0.2, r'$y=e^{-\\frac{(x-\\mu)^2}{2\\sigma^2}}$', fontsize=20)\n",
        "plt.legend(loc='upper right')\n",
        "plt.show()"
      ],
      "metadata": {
        "colab": {
          "base_uri": "https://localhost:8080/",
          "height": 450
        },
        "id": "A4wjyEIoIqab",
        "outputId": "e659cfaa-a844-486f-ecb6-7920d0789d7b"
      },
      "execution_count": 31,
      "outputs": [
        {
          "output_type": "display_data",
          "data": {
            "text/plain": [
              "<Figure size 640x480 with 1 Axes>"
            ],
            "image/png": "[encoded data removed]"
          },
          "metadata": {}
        }
      ]
    },
    {
      "cell_type": "markdown",
      "source": [
        "Here **plt.text** takes the following arguments\n",
        "\n",
        "plt.text(x, y, 'text', kwargs)\n",
        "\n",
        "x and y represents the **coordinates where text is to be placed**\n",
        "\n",
        "here our text  $y=e^{-\\frac{(x-\\mu)^2}{2\\sigma^2}}$' which is written using **latex** as follows,\n",
        "\n",
        " r'$y=e^{-\\frac{(x-\\mu)^2}{2\\sigma^2}$'\n",
        "\n",
        " here **r'** represents it is a raw text **$** means it is to be rendered using latex\n",
        "\n",
        " fontsize is one of the keyword argument used to adjust size of the font"
      ],
      "metadata": {
        "id": "RY6ycipVeDOZ"
      }
    },
    {
      "cell_type": "code",
      "source": [],
      "metadata": {
        "id": "t0QuwRTugDaz"
      },
      "execution_count": null,
      "outputs": []
    }
  ]
}